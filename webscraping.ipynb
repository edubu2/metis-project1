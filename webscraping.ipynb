{
 "cells": [
  {
   "cell_type": "code",
   "execution_count": 83,
   "metadata": {
    "scrolled": false
   },
   "outputs": [
    {
     "name": "stdout",
     "output_type": "stream",
     "text": [
      "2021\n",
      "2020\n",
      "          C/A  UNIT       SCP        STATION  LINENAME  DIVISION        DATE  \\\n",
      "0         C/A  UNIT       SCP        STATION  LINENAME  DIVISION        DATE   \n",
      "1        A002  R051  02-00-00          59 ST   NQR456W       BMT  12/19/2020   \n",
      "2        A002  R051  02-00-00          59 ST   NQR456W       BMT  12/19/2020   \n",
      "3        A002  R051  02-00-00          59 ST   NQR456W       BMT  12/19/2020   \n",
      "4        A002  R051  02-00-00          59 ST   NQR456W       BMT  12/19/2020   \n",
      "...       ...   ...       ...            ...       ...       ...         ...   \n",
      "212295  TRAM2  R469  00-05-01  RIT-ROOSEVELT         R       RIT  12/25/2020   \n",
      "212296  TRAM2  R469  00-05-01  RIT-ROOSEVELT         R       RIT  12/25/2020   \n",
      "212297  TRAM2  R469  00-05-01  RIT-ROOSEVELT         R       RIT  12/25/2020   \n",
      "212298  TRAM2  R469  00-05-01  RIT-ROOSEVELT         R       RIT  12/25/2020   \n",
      "212299  TRAM2  R469  00-05-01  RIT-ROOSEVELT         R       RIT  12/25/2020   \n",
      "\n",
      "            TIME     DESC     ENTRIES  \\\n",
      "0           TIME     DESC     ENTRIES   \n",
      "1       03:00:00  REGULAR  0007505644   \n",
      "2       07:00:00  REGULAR  0007505647   \n",
      "3       11:00:00  REGULAR  0007505683   \n",
      "4       15:00:00  REGULAR  0007505774   \n",
      "...          ...      ...         ...   \n",
      "212295  04:00:00  REGULAR        5554   \n",
      "212296  08:00:00  REGULAR        5554   \n",
      "212297  12:00:00  REGULAR        5554   \n",
      "212298  16:00:00  REGULAR        5554   \n",
      "212299  20:00:00  REGULAR        5554   \n",
      "\n",
      "                                                    EXITS  \n",
      "0       EXITS                                         ...  \n",
      "1       0002556326                                    ...  \n",
      "2       0002556330                                    ...  \n",
      "3       0002556378                                    ...  \n",
      "4       0002556423                                    ...  \n",
      "...                                                   ...  \n",
      "212295                                                541  \n",
      "212296                                                541  \n",
      "212297                                                541  \n",
      "212298                                                541  \n",
      "212299                                                541  \n",
      "\n",
      "[212300 rows x 11 columns]\n"
     ]
    },
    {
     "name": "stderr",
     "output_type": "stream",
     "text": [
      "/Users/user.me/opt/anaconda3/lib/python3.8/site-packages/IPython/core/interactiveshell.py:3146: DtypeWarning: Columns (9,10) have mixed types.Specify dtype option on import or set low_memory=False.\n",
      "  has_raised = await self.run_ast_nodes(code_ast.body, cell_name,\n"
     ]
    },
    {
     "ename": "NameError",
     "evalue": "name 'DataFrame' is not defined",
     "output_type": "error",
     "traceback": [
      "\u001b[0;31m---------------------------------------------------------------------------\u001b[0m",
      "\u001b[0;31mNameError\u001b[0m                                 Traceback (most recent call last)",
      "\u001b[0;32m<ipython-input-83-0a1e7ca3bb21>\u001b[0m in \u001b[0;36m<module>\u001b[0;34m\u001b[0m\n\u001b[1;32m     36\u001b[0m         \u001b[0mdata\u001b[0m \u001b[0;34m=\u001b[0m \u001b[0mpd\u001b[0m\u001b[0;34m.\u001b[0m\u001b[0mread_csv\u001b[0m\u001b[0;34m(\u001b[0m\u001b[0mb\u001b[0m\u001b[0;34m,\u001b[0m \u001b[0mnames\u001b[0m \u001b[0;34m=\u001b[0m \u001b[0mcol\u001b[0m\u001b[0;34m)\u001b[0m\u001b[0;34m\u001b[0m\u001b[0;34m\u001b[0m\u001b[0m\n\u001b[1;32m     37\u001b[0m         \u001b[0mprint\u001b[0m\u001b[0;34m(\u001b[0m\u001b[0mdata\u001b[0m\u001b[0;34m)\u001b[0m\u001b[0;34m\u001b[0m\u001b[0;34m\u001b[0m\u001b[0m\n\u001b[0;32m---> 38\u001b[0;31m         \u001b[0mdf\u001b[0m \u001b[0;34m=\u001b[0m \u001b[0mDataFrame\u001b[0m\u001b[0;34m(\u001b[0m\u001b[0mdata\u001b[0m\u001b[0;34m)\u001b[0m\u001b[0;34m\u001b[0m\u001b[0;34m\u001b[0m\u001b[0m\n\u001b[0m\u001b[1;32m     39\u001b[0m         \u001b[0mdf\u001b[0m \u001b[0;34m+=\u001b[0m \u001b[0mdf\u001b[0m\u001b[0;34m.\u001b[0m\u001b[0mappend\u001b[0m\u001b[0;34m(\u001b[0m\u001b[0mdata\u001b[0m\u001b[0;34m,\u001b[0m \u001b[0mignore_index\u001b[0m\u001b[0;34m=\u001b[0m\u001b[0;32mTrue\u001b[0m\u001b[0;34m)\u001b[0m \u001b[0;31m#ignore index cause that will mess up col matrix size\u001b[0m\u001b[0;34m\u001b[0m\u001b[0;34m\u001b[0m\u001b[0m\n\u001b[1;32m     40\u001b[0m         \u001b[0;31m#data = pd.read_csv(filePath, sep=\",\", header=None, names = col_name)\u001b[0m\u001b[0;34m\u001b[0m\u001b[0;34m\u001b[0m\u001b[0;34m\u001b[0m\u001b[0m\n",
      "\u001b[0;31mNameError\u001b[0m: name 'DataFrame' is not defined"
     ]
    }
   ],
   "source": [
    "#Use beautiful soup to retrive all MTA files from website (web scrape) just for 2020-01-01 to most recent\n",
    "\n",
    "import re\n",
    "import requests\n",
    "import urllib.request\n",
    "from datetime import datetime\n",
    "from bs4 import BeautifulSoup\n",
    "import pandas as pd\n",
    "\n",
    "url = 'http://web.mta.info/developers/turnstile.html'\n",
    "\n",
    "#https://blog.proxypage.io/web-scrape-using-python-in-less-than-5-minutes-2/\n",
    "#https://hackersandslackers.com/scraping-urls-with-beautifulsoup/\n",
    "response = requests.get(url)\n",
    "soup = BeautifulSoup(response.text, \"html.parser\")\n",
    "\n",
    "#print(soup.prettify()) you can see 'soup' is our entire html page\n",
    "\n",
    "URL_PREFACE = 'http://web.mta.info/developers/'\n",
    "a = soup.find_all('a')\n",
    "o = ()\n",
    "for i in range(37, len(a)):\n",
    "    ins = (a[i].get_text(), URL_PREFACE + a[i]['href'],)\n",
    "    o = o + (ins,)\n",
    "\n",
    "col = ['C/A','UNIT','SCP','STATION','LINENAME','DIVISION','DATE','TIME','DESC','ENTRIES','EXITS']\n",
    "\n",
    "for a, b in o: #for content, href in soup.find_all('a'), so for every tuple\n",
    "    d = a[-4:] #notice the year is just the last 4 index\n",
    "    print(d)\n",
    "    if d.find('2020') !=-1:\n",
    "\n",
    "        #what if I wanted to keep track of everything I'm downloading? How do I check\n",
    "        #what's being pushed into df?\n",
    "        content = requests.get(b).content\n",
    "        data = pd.read_csv(b, names = col)\n",
    "        print(data)\n",
    "        df = DataFrame(data)\n",
    "        df += df.append(data, ignore_index=True) #ignore index cause that will mess up col matrix size\n",
    "        #data = pd.read_csv(filePath, sep=\",\", header=None, names = col_name)\n",
    "\n",
    "df.count\n",
    "df.head()"
   ]
  },
  {
   "cell_type": "code",
   "execution_count": null,
   "metadata": {},
   "outputs": [],
   "source": []
  },
  {
   "cell_type": "code",
   "execution_count": 1,
   "metadata": {},
   "outputs": [],
   "source": []
  },
  {
   "cell_type": "code",
   "execution_count": null,
   "metadata": {},
   "outputs": [],
   "source": []
  },
  {
   "cell_type": "code",
   "execution_count": null,
   "metadata": {},
   "outputs": [],
   "source": []
  },
  {
   "cell_type": "code",
   "execution_count": null,
   "metadata": {},
   "outputs": [],
   "source": []
  },
  {
   "cell_type": "code",
   "execution_count": null,
   "metadata": {},
   "outputs": [],
   "source": []
  },
  {
   "cell_type": "code",
   "execution_count": null,
   "metadata": {},
   "outputs": [],
   "source": []
  },
  {
   "cell_type": "code",
   "execution_count": null,
   "metadata": {},
   "outputs": [],
   "source": []
  },
  {
   "cell_type": "code",
   "execution_count": null,
   "metadata": {},
   "outputs": [],
   "source": []
  },
  {
   "cell_type": "code",
   "execution_count": null,
   "metadata": {},
   "outputs": [],
   "source": []
  },
  {
   "cell_type": "code",
   "execution_count": null,
   "metadata": {},
   "outputs": [],
   "source": []
  },
  {
   "cell_type": "code",
   "execution_count": null,
   "metadata": {},
   "outputs": [],
   "source": []
  },
  {
   "cell_type": "code",
   "execution_count": null,
   "metadata": {},
   "outputs": [],
   "source": []
  }
 ],
 "metadata": {
  "kernelspec": {
   "display_name": "Python 3",
   "language": "python",
   "name": "python3"
  },
  "language_info": {
   "codemirror_mode": {
    "name": "ipython",
    "version": 3
   },
   "file_extension": ".py",
   "mimetype": "text/x-python",
   "name": "python",
   "nbconvert_exporter": "python",
   "pygments_lexer": "ipython3",
   "version": "3.8.5"
  }
 },
 "nbformat": 4,
 "nbformat_minor": 4
}
