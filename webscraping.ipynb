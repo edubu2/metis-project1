{
 "cells": [
  {
   "cell_type": "code",
   "execution_count": 15,
   "metadata": {
    "scrolled": false
   },
   "outputs": [
    {
     "data": {
      "text/html": [
       "<div>\n",
       "<style scoped>\n",
       "    .dataframe tbody tr th:only-of-type {\n",
       "        vertical-align: middle;\n",
       "    }\n",
       "\n",
       "    .dataframe tbody tr th {\n",
       "        vertical-align: top;\n",
       "    }\n",
       "\n",
       "    .dataframe thead th {\n",
       "        text-align: right;\n",
       "    }\n",
       "</style>\n",
       "<table border=\"1\" class=\"dataframe\">\n",
       "  <thead>\n",
       "    <tr style=\"text-align: right;\">\n",
       "      <th></th>\n",
       "      <th>C/A</th>\n",
       "      <th>UNIT</th>\n",
       "      <th>SCP</th>\n",
       "      <th>STATION</th>\n",
       "      <th>LINENAME</th>\n",
       "      <th>DIVISION</th>\n",
       "      <th>DATE</th>\n",
       "      <th>TIME</th>\n",
       "      <th>DESC</th>\n",
       "      <th>ENTRIES</th>\n",
       "      <th>EXITS</th>\n",
       "    </tr>\n",
       "  </thead>\n",
       "  <tbody>\n",
       "    <tr>\n",
       "      <th>0</th>\n",
       "      <td>A002</td>\n",
       "      <td>R051</td>\n",
       "      <td>02-00-00</td>\n",
       "      <td>59 ST</td>\n",
       "      <td>NQR456W</td>\n",
       "      <td>BMT</td>\n",
       "      <td>12/19/2020</td>\n",
       "      <td>2021-01-05 03:00:00</td>\n",
       "      <td>REGULAR</td>\n",
       "      <td>7505644</td>\n",
       "      <td>2556326</td>\n",
       "    </tr>\n",
       "    <tr>\n",
       "      <th>1</th>\n",
       "      <td>A002</td>\n",
       "      <td>R051</td>\n",
       "      <td>02-00-00</td>\n",
       "      <td>59 ST</td>\n",
       "      <td>NQR456W</td>\n",
       "      <td>BMT</td>\n",
       "      <td>12/19/2020</td>\n",
       "      <td>2021-01-05 07:00:00</td>\n",
       "      <td>REGULAR</td>\n",
       "      <td>7505647</td>\n",
       "      <td>2556330</td>\n",
       "    </tr>\n",
       "    <tr>\n",
       "      <th>2</th>\n",
       "      <td>A002</td>\n",
       "      <td>R051</td>\n",
       "      <td>02-00-00</td>\n",
       "      <td>59 ST</td>\n",
       "      <td>NQR456W</td>\n",
       "      <td>BMT</td>\n",
       "      <td>12/19/2020</td>\n",
       "      <td>2021-01-05 11:00:00</td>\n",
       "      <td>REGULAR</td>\n",
       "      <td>7505683</td>\n",
       "      <td>2556378</td>\n",
       "    </tr>\n",
       "    <tr>\n",
       "      <th>3</th>\n",
       "      <td>A002</td>\n",
       "      <td>R051</td>\n",
       "      <td>02-00-00</td>\n",
       "      <td>59 ST</td>\n",
       "      <td>NQR456W</td>\n",
       "      <td>BMT</td>\n",
       "      <td>12/19/2020</td>\n",
       "      <td>2021-01-05 15:00:00</td>\n",
       "      <td>REGULAR</td>\n",
       "      <td>7505774</td>\n",
       "      <td>2556423</td>\n",
       "    </tr>\n",
       "    <tr>\n",
       "      <th>4</th>\n",
       "      <td>A002</td>\n",
       "      <td>R051</td>\n",
       "      <td>02-00-00</td>\n",
       "      <td>59 ST</td>\n",
       "      <td>NQR456W</td>\n",
       "      <td>BMT</td>\n",
       "      <td>12/19/2020</td>\n",
       "      <td>2021-01-05 19:00:00</td>\n",
       "      <td>REGULAR</td>\n",
       "      <td>7505939</td>\n",
       "      <td>2556447</td>\n",
       "    </tr>\n",
       "  </tbody>\n",
       "</table>\n",
       "</div>"
      ],
      "text/plain": [
       "    C/A  UNIT       SCP STATION LINENAME DIVISION        DATE  \\\n",
       "0  A002  R051  02-00-00   59 ST  NQR456W      BMT  12/19/2020   \n",
       "1  A002  R051  02-00-00   59 ST  NQR456W      BMT  12/19/2020   \n",
       "2  A002  R051  02-00-00   59 ST  NQR456W      BMT  12/19/2020   \n",
       "3  A002  R051  02-00-00   59 ST  NQR456W      BMT  12/19/2020   \n",
       "4  A002  R051  02-00-00   59 ST  NQR456W      BMT  12/19/2020   \n",
       "\n",
       "                 TIME     DESC  ENTRIES  \\\n",
       "0 2021-01-05 03:00:00  REGULAR  7505644   \n",
       "1 2021-01-05 07:00:00  REGULAR  7505647   \n",
       "2 2021-01-05 11:00:00  REGULAR  7505683   \n",
       "3 2021-01-05 15:00:00  REGULAR  7505774   \n",
       "4 2021-01-05 19:00:00  REGULAR  7505939   \n",
       "\n",
       "   EXITS                                                                 \n",
       "0                                            2556326                     \n",
       "1                                            2556330                     \n",
       "2                                            2556378                     \n",
       "3                                            2556423                     \n",
       "4                                            2556447                     "
      ]
     },
     "execution_count": 15,
     "metadata": {},
     "output_type": "execute_result"
    }
   ],
   "source": [
    "#Use beautiful soup to retrive all MTA files from website (web scrape) just for 2020-01-01 to most recent\n",
    "\n",
    "import re\n",
    "import requests\n",
    "import urllib.request\n",
    "from datetime import datetime\n",
    "from bs4 import BeautifulSoup\n",
    "import pandas as pd\n",
    "from io import StringIO\n",
    "\n",
    "\n",
    "url = 'http://web.mta.info/developers/turnstile.html'\n",
    "\n",
    "#https://blog.proxypage.io/web-scrape-using-python-in-less-than-5-minutes-2/\n",
    "#https://hackersandslackers.com/scraping-urls-with-beautifulsoup/\n",
    "response = requests.get(url)\n",
    "soup = BeautifulSoup(response.text, \"html.parser\")\n",
    "\n",
    "#print(soup.prettify()) you can see 'soup' is our entire html page\n",
    "\n",
    "URL_PREFACE = 'http://web.mta.info/developers/'\n",
    "a = soup.find_all('a')\n",
    "o = ()\n",
    "for i in range(37, len(a)):\n",
    "    ins = (a[i].get_text(), URL_PREFACE + a[i]['href'],)\n",
    "    o = o + (ins,)\n",
    "\n",
    "col = ['C/A','UNIT','SCP','STATION','LINENAME','DIVISION','DATE','TIME','DESC','ENTRIES','EXITS']\n",
    "\n",
    "data = pd.DataFrame()\n",
    "for a, b in o: \n",
    "    d = a[-4:] \n",
    "    if d.find('2020') !=-1:\n",
    "        df = pd.read_csv(b, parse_dates=[7])\n",
    "        data = pd.concat([data, df])\n",
    "\n",
    "data.count\n",
    "data.head()"
   ]
  },
  {
   "cell_type": "code",
   "execution_count": 16,
   "metadata": {},
   "outputs": [
    {
     "data": {
      "text/plain": [
       "(10820238, 11)"
      ]
     },
     "execution_count": 16,
     "metadata": {},
     "output_type": "execute_result"
    }
   ],
   "source": [
    "data.shape"
   ]
  },
  {
   "cell_type": "code",
   "execution_count": 1,
   "metadata": {},
   "outputs": [],
   "source": []
  },
  {
   "cell_type": "code",
   "execution_count": null,
   "metadata": {},
   "outputs": [],
   "source": []
  },
  {
   "cell_type": "code",
   "execution_count": null,
   "metadata": {},
   "outputs": [],
   "source": []
  },
  {
   "cell_type": "code",
   "execution_count": null,
   "metadata": {},
   "outputs": [],
   "source": []
  },
  {
   "cell_type": "code",
   "execution_count": null,
   "metadata": {},
   "outputs": [],
   "source": []
  },
  {
   "cell_type": "code",
   "execution_count": null,
   "metadata": {},
   "outputs": [],
   "source": []
  },
  {
   "cell_type": "code",
   "execution_count": null,
   "metadata": {},
   "outputs": [],
   "source": []
  },
  {
   "cell_type": "code",
   "execution_count": null,
   "metadata": {},
   "outputs": [],
   "source": []
  },
  {
   "cell_type": "code",
   "execution_count": null,
   "metadata": {},
   "outputs": [],
   "source": []
  },
  {
   "cell_type": "code",
   "execution_count": null,
   "metadata": {},
   "outputs": [],
   "source": []
  },
  {
   "cell_type": "code",
   "execution_count": null,
   "metadata": {},
   "outputs": [],
   "source": []
  },
  {
   "cell_type": "code",
   "execution_count": null,
   "metadata": {},
   "outputs": [],
   "source": []
  }
 ],
 "metadata": {
  "kernelspec": {
   "display_name": "Python 3",
   "language": "python",
   "name": "python3"
  },
  "language_info": {
   "codemirror_mode": {
    "name": "ipython",
    "version": 3
   },
   "file_extension": ".py",
   "mimetype": "text/x-python",
   "name": "python",
   "nbconvert_exporter": "python",
   "pygments_lexer": "ipython3",
   "version": "3.8.5"
  }
 },
 "nbformat": 4,
 "nbformat_minor": 4
}
