{
 "cells": [
  {
   "cell_type": "code",
   "execution_count": 1,
   "metadata": {},
   "outputs": [],
   "source": [
    "from clean2 import *\n",
    "\n",
    "import matplotlib.pyplot as plt\n",
    "import seaborn as sns\n",
    "import numpy as np\n",
    "import pandas as pd"
   ]
  },
  {
   "cell_type": "code",
   "execution_count": 2,
   "metadata": {},
   "outputs": [],
   "source": [
    "df, temp = data_wrangling()"
   ]
  },
  {
   "cell_type": "code",
   "execution_count": null,
   "metadata": {},
   "outputs": [],
   "source": [
    "df = data_wrangling()\n",
    "tmp = df.groupby(\n",
    "        [\"C/A\", \"UNIT\", \"SCP\", \"STATION\", \"DATE\", \"AMPM\", \"DAY_NAME\"], as_index=False\n",
    "    ).ENTRIES.max()\n",
    "\n",
    "##\n",
    "t = df.groupby(\n",
    "    [\"C/A\", \"UNIT\", \"SCP\", \"STATION\", \"DATE\", \"AMPM\", \"DAY_NAME\"], as_index=False\n",
    ").EXITS.max()\n",
    "tmp[\"EXITS\"] = t[\"EXITS\"]\n",
    "\n",
    "# create prev_date and prev_entries cols by shifting these columns forward one day\n",
    "# if shifting date and entries, don't group by date\n",
    "tmp[[\"PREV_DATE\", \"PREV_ENTRIES\", \"PREV_EXITS\"]] = tmp.groupby(\n",
    "    [\"C/A\", \"UNIT\", \"SCP\", \"STATION\", \"AMPM\"]\n",
    ")[[\"DATE\", \"ENTRIES\", \"EXITS\"]].apply(lambda grp: grp.shift(1))\n",
    "\n",
    "# Drop the rows for the earliest date in the df, which are now NaNs for prev_date and prev_entries cols\n",
    "tmp.dropna(subset=[\"PREV_DATE\"], axis=0, inplace=True)\n",
    "\n",
    "tmp = get_tmp_entries(df)"
   ]
  },
  {
   "cell_type": "code",
   "execution_count": null,
   "metadata": {},
   "outputs": [],
   "source": []
  },
  {
   "cell_type": "code",
   "execution_count": null,
   "metadata": {},
   "outputs": [],
   "source": [
    "df.sample(10, random_state=10)"
   ]
  },
  {
   "cell_type": "code",
   "execution_count": null,
   "metadata": {},
   "outputs": [],
   "source": [
    "tmp"
   ]
  },
  {
   "cell_type": "code",
   "execution_count": null,
   "metadata": {},
   "outputs": [],
   "source": [
    "tmp['MEAN_TRAFFIC'] = round(tmp.TMP_ENTRIES + tmp.TMP_EXITS, 0)\n",
    "AMPM = ['AM', 'PM']\n",
    "\n",
    "# TOP TEN AM\n",
    "mask = tmp.AMPM == 'AM'\n",
    "tmp[mask].groupby('STATION').agg('mean').sort_values(['traffic']).head(10)"
   ]
  },
  {
   "cell_type": "code",
   "execution_count": null,
   "metadata": {},
   "outputs": [],
   "source": [
    "# TOP TEN AM\n",
    "mask = tmp.AMPM == 'AM'\n",
    "am_df = tmp[mask].groupby('STATION').agg('mean').sort_values(['MEAN_TRAFFIC'], ascending=False).head(11)\n",
    "am_df.reset_index()[['STATION', 'MEAN_TRAFFIC']].shift(1).dropna(how='all')"
   ]
  },
  {
   "cell_type": "code",
   "execution_count": null,
   "metadata": {},
   "outputs": [],
   "source": [
    "# TOP TEN PM\n",
    "mask = tmp.AMPM == 'PM'\n",
    "am_df = tmp[mask].groupby('STATION').agg('mean').sort_values(['MEAN_TRAFFIC'], ascending=False).head(11)\n",
    "am_df.reset_index()[['STATION', 'MEAN_TRAFFIC']].shift(1).dropna(how='all')"
   ]
  },
  {
   "cell_type": "code",
   "execution_count": null,
   "metadata": {},
   "outputs": [],
   "source": []
  },
  {
   "cell_type": "code",
   "execution_count": null,
   "metadata": {},
   "outputs": [],
   "source": []
  }
 ],
 "metadata": {
  "kernelspec": {
   "display_name": "Python 3",
   "language": "python",
   "name": "python3"
  },
  "language_info": {
   "codemirror_mode": {
    "name": "ipython",
    "version": 3
   },
   "file_extension": ".py",
   "mimetype": "text/x-python",
   "name": "python",
   "nbconvert_exporter": "python",
   "pygments_lexer": "ipython3",
   "version": "3.8.5"
  }
 },
 "nbformat": 4,
 "nbformat_minor": 4
}
