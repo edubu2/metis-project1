{
 "cells": [
  {
   "cell_type": "markdown",
   "metadata": {},
   "source": [
    "## Data Merging\n",
    "\n",
    "The contents of this notebook is our work (cleaned, of course) that is used in **clean2.py** for our data analysis.\n",
    "\n",
    "This file adds the ``lat`` and ``lon`` columns to our dataFrames(``df_turnstiles`` and ``df_ampm``).\n",
    "\n",
    "It also pulls geolocation data from Google (using its ``geocode api``). This allows us to add ``zipcode`` to our data in order to filter by **AGI (Adjusted Gross Income)**, which is pulled from US Census today."
   ]
  },
  {
   "cell_type": "code",
   "execution_count": null,
   "metadata": {},
   "outputs": [],
   "source": [
    "from data_wrangling import *\n",
    "df_turnstiles, df_ampm = data_wrangling()"
   ]
  }
 ],
 "metadata": {
  "kernelspec": {
   "display_name": "Python 3",
   "language": "python",
   "name": "python3"
  },
  "language_info": {
   "codemirror_mode": {
    "name": "ipython",
    "version": 3
   },
   "file_extension": ".py",
   "mimetype": "text/x-python",
   "name": "python",
   "nbconvert_exporter": "python",
   "pygments_lexer": "ipython3",
   "version": "3.8.5"
  }
 },
 "nbformat": 4,
 "nbformat_minor": 4
}
